{
 "cells": [
  {
   "cell_type": "markdown",
   "metadata": {},
   "source": [
    "# SVM*（最大间隔分类器）"
   ]
  },
  {
   "cell_type": "markdown",
   "metadata": {},
   "source": [
    "## 一、基础知识\n",
    "### 1. 点到超平面$w^{T}x+b=0$的距离：$dis(x,w,b) = |\\frac{1}{||w||}(w^{T}x+b)|$\n",
    "证明：设**w**为超平面的一个法向量,$x^{'}$为超平面上任意一点,dis(x,w,b)即 ($x-x^{'}$) 在**w**方向上的投影\n",
    "- dis(x,b,w)=$|\\frac{w^{T}}{||w||}(x-x^{'})|$（$\\frac{w^{T}}{||w||}$表示单位法向量的长度）\n",
    "- dis(x,b,w)=$|\\frac{1}{||w||}(w^{T}x-w^{T}x^{'})|$\n",
    "- 因为$x^{'}$在超平面上,=>$w^{T}x^{'} + b = 0$\n",
    "- dis(x,b,w) = $|\\frac{1}{||w||}(w^{T}x+b)|$\n",
    "\n",
    "ps:SVM中、对任意二分类样本$y_i = {+1,-1}$,$w^{T}x_i+b>0$时y_i=+1，否则y=-1\n",
    "所以dis(x_i,b,w) = $\\frac{1}{||w||}[y_i(w^{T}x_i+b)]$\n",
    "\n",
    "\n",
    "\n",
    "### 2. 间隔（Margin）：$min[\\frac{1}{||w||}(w^{T}x_i+b)]$, $\\forall i$\n",
    "间隔指的是超平面与距离它最近的数据点(支持向量)之间的距离。在SVM中，我们希望找到一个超平面，使得间隔最大化，从而提高模型的泛化能力。\n",
    "\n",
    "### 3. 支持向量\n",
    "- 在支持向量机中，距离超平面最近的且满足一定条件的几个训练样本点被称为支持向量。\n",
    "- 对线性可分的情形，构造**硬间隔**，位于间隔边界上的样本点称为支持向量（硬间隔的支持向量）。\n",
    "- 对线性不可分的情形，构造**软间隔**，位于间隔边界上及间隔边界之内的样本点的实例称为支持向量（软间隔的支持向量）。"
   ]
  },
  {
   "cell_type": "markdown",
   "metadata": {},
   "source": [
    "## 二、算法详解\n",
    "### 1. 优化目标——最大化间隔： \n",
    "- 原始目标函数 $\\begin{cases} argmax \\{ \\frac{1}{||w||}min[y_i(w^{T}x_i+b)] \\}（最大化最小间隔） \\\\ s.t. \\ \\ \\ y_i(w^{T}x_i+b)>0 （分类正确）\\end{cases}$\n",
    "- 对超平面做缩放，可令$min[y_i(w^{T}x_i+b)]$=1\n",
    "- 目标函数： $\\begin{cases} \n",
    "argmax \\{ \\frac{1}{||w||} \\} => argmin \\{ ||w|| \\} => argmin \\{ \\frac{1}{2}w^{T}w \\} \\\\ \n",
    "s.t. \\ \\ \\ min[y_i(w^{T}x_i+b)]=1 => y_i(w^{T}x_i+b)≥1 <=>1- y_i(w^{T}x_i+b)≤0,i=1...N\n",
    "\\end{cases}$\n",
    "- 即转化成二次N个约束的凸优化问题: \n",
    "- 根据拉格朗日乘子法: $\\begin{cases}\n",
    "L(w,b,λ) = \\frac{1}{2}w^{T}w + \\sum_{i=1}^{N}λ_i(1-y_i(w^{T}x_i+b)) \\\\\n",
    "s.t. \\ \\ \\ λ_i>=0\n",
    "\\end{cases}$"
   ]
  },
  {
   "cell_type": "code",
   "execution_count": null,
   "metadata": {},
   "outputs": [],
   "source": []
  }
 ],
 "metadata": {
  "kernelspec": {
   "display_name": "Python 3",
   "language": "python",
   "name": "python3"
  },
  "language_info": {
   "codemirror_mode": {
    "name": "ipython",
    "version": 3
   },
   "file_extension": ".py",
   "mimetype": "text/x-python",
   "name": "python",
   "nbconvert_exporter": "python",
   "pygments_lexer": "ipython3",
   "version": "3.8.5"
  }
 },
 "nbformat": 4,
 "nbformat_minor": 4
}
