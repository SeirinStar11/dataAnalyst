{
 "cells": [
  {
   "cell_type": "markdown",
   "metadata": {},
   "source": [
    "# 感知机"
   ]
  },
  {
   "cell_type": "markdown",
   "metadata": {},
   "source": [
    "## 1. 超平面表达式:$f(x) = sign(w^{T}x+b)$"
   ]
  },
  {
   "cell_type": "code",
   "execution_count": 7,
   "metadata": {},
   "outputs": [
    {
     "data": {
      "text/plain": [
       "[[1, 2, 3, 4], [5, 6, 7, 8], [9, 10, 11, 12]]"
      ]
     },
     "execution_count": 7,
     "metadata": {},
     "output_type": "execute_result"
    }
   ],
   "source": [
    "data = [\n",
    "    [1,2,3,4],\n",
    "    [5,6,7,8],\n",
    "    [9,10,11,12]\n",
    "]\n",
    "data"
   ]
  },
  {
   "cell_type": "markdown",
   "metadata": {},
   "source": [
    "## 2. 损失函数：误分类点到超平面的距离$L(w,b) = -\\sum_{x_i∈M}y_i(wx_i+b)$ "
   ]
  },
  {
   "cell_type": "markdown",
   "metadata": {},
   "source": [
    "## 点到超平面的距离：$dis(x,w,b) = |\\frac{1}{||w||}(w^{T}x+b)|$\n",
    "证明：\n",
    "- 设**w**为超平面的一个法向量,$x^{'}$为超平面上任意一点,dis(x,w,b)即 ($x-x^{'}$) 在**w**上的投影\n",
    "- dis(x,b,w)=$|\\frac{w^{T}}{||w||}(x-x^{'})|$（$\\frac{w^{T}}{||w||}$表示单位法向量的长度）\n",
    "- dis(x,b,w)=$|\\frac{1}{||w||}(w^{T}x-w^{T}x^{'})|$\n",
    "- 因为$x^{'}$在超平面上,=>$w^{T}x^{'} + b = 0$\n",
    "- dis(x,b,w)=$|\\frac{1}{||w||}(w^{T}x+b)|$"
   ]
  },
  {
   "cell_type": "code",
   "execution_count": null,
   "metadata": {},
   "outputs": [],
   "source": []
  }
 ],
 "metadata": {
  "kernelspec": {
   "display_name": "Python 3",
   "language": "python",
   "name": "python3"
  },
  "language_info": {
   "codemirror_mode": {
    "name": "ipython",
    "version": 3
   },
   "file_extension": ".py",
   "mimetype": "text/x-python",
   "name": "python",
   "nbconvert_exporter": "python",
   "pygments_lexer": "ipython3",
   "version": "3.8.5"
  },
  "toc": {
   "base_numbering": 1,
   "nav_menu": {},
   "number_sections": true,
   "sideBar": true,
   "skip_h1_title": false,
   "title_cell": "Table of Contents",
   "title_sidebar": "Contents",
   "toc_cell": false,
   "toc_position": {
    "height": "calc(100% - 180px)",
    "left": "10px",
    "top": "150px",
    "width": "177.4px"
   },
   "toc_section_display": true,
   "toc_window_display": true
  }
 },
 "nbformat": 4,
 "nbformat_minor": 4
}
